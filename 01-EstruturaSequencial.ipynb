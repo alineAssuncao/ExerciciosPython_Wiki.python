{
 "cells": [
  {
   "cell_type": "markdown",
   "metadata": {},
   "source": [
    "# Estrutura Sequencial em Python\n",
    "#### Aline Assunção\n",
    "#### Lista dos exercícios: https://wiki.python.org.br/EstruturaSequencial"
   ]
  },
  {
   "cell_type": "code",
   "execution_count": 1,
   "metadata": {},
   "outputs": [
    {
     "name": "stdout",
     "output_type": "stream",
     "text": [
      "Alo Mundo\n"
     ]
    }
   ],
   "source": [
    "# 1. Faça um Programa que mostre a mensagem \"Alo mundo\" na tela. \n",
    "\n",
    "print(\"Alo Mundo\")"
   ]
  },
  {
   "cell_type": "code",
   "execution_count": 3,
   "metadata": {},
   "outputs": [
    {
     "name": "stdout",
     "output_type": "stream",
     "text": [
      "Informe um número: 10\n",
      "O número informado foi:  10\n"
     ]
    }
   ],
   "source": [
    "# 2. Faça um Programa que peça um número e então mostre a mensagem \n",
    "# O número informado foi [número]. \n",
    "\n",
    "def retornaNumero(num):\n",
    "    print(\"O número informado foi: \", num)\n",
    "    \n",
    "retornaNumero(input(\"Informe um número: \"))"
   ]
  },
  {
   "cell_type": "code",
   "execution_count": 17,
   "metadata": {},
   "outputs": [
    {
     "name": "stdout",
     "output_type": "stream",
     "text": [
      "Informe um primeiro número: 0\n",
      "Informe um segundo número: 1\n",
      "\n",
      "O resultado da soma dos números é:  1\n"
     ]
    }
   ],
   "source": [
    "# 3 - Faça um Programa que peça dois números e imprima a soma.\n",
    "\n",
    "# ao receber os numeros desta forma é necessário converter para int, pois no\n",
    "# input recebemos uma string e com o sinal de + fazemos uma concatenação\n",
    "num1 = int(input(\"Informe um primeiro número: \"))\n",
    "num2 = int(input(\"Informe um segundo número: \"))\n",
    "\n",
    "print(\"\\nO resultado da soma dos números é: \", num1 + num2)"
   ]
  },
  {
   "cell_type": "code",
   "execution_count": 29,
   "metadata": {},
   "outputs": [
    {
     "name": "stdout",
     "output_type": "stream",
     "text": [
      "Informe a nota do bimestre: 8\n",
      "Informe a nota do bimestre: 9\n",
      "Informe a nota do bimestre: 8\n",
      "Informe a nota do bimestre: 9\n",
      "\n",
      " A média das notas é:  8.5\n"
     ]
    }
   ],
   "source": [
    "# 4 - Faça um Programa que peça as 4 notas bimestrais e mostre a média. \n",
    "\n",
    "notas = []\n",
    "\n",
    "for x in range(4):\n",
    "    notas.append(float(input(\"Informe a nota do bimestre: \")))\n",
    "\n",
    "print(\"\\n A média das notas é: \",(sum(notas)/4))"
   ]
  },
  {
   "cell_type": "code",
   "execution_count": 34,
   "metadata": {},
   "outputs": [
    {
     "name": "stdout",
     "output_type": "stream",
     "text": [
      "Informe o valor a ser convertido: 5.2\n",
      "5.2 metro(s) equivale(m) à 520.0 centímetros.\n"
     ]
    }
   ],
   "source": [
    "# 5 - Faça um Programa que converta metros para centímetros. \n",
    "\n",
    "def converteMc(metros):\n",
    "    print(metros, \"metro(s) equivale(m) à\", metros * 100, \"centímetros.\")\n",
    "    \n",
    "converteMc(float(input(\"Informe o valor a ser convertido: \")))"
   ]
  },
  {
   "cell_type": "code",
   "execution_count": 40,
   "metadata": {},
   "outputs": [
    {
     "name": "stdout",
     "output_type": "stream",
     "text": [
      "Informe o raio do círculo: 3\n",
      "A área do circulo é:  28.274333882308138\n"
     ]
    }
   ],
   "source": [
    "# 6 - Faça um Programa que peça o raio de um círculo, calcule e mostre sua área.\n",
    "# A = π . r²\n",
    "\n",
    "import math\n",
    "\n",
    "def calcAreacirculo(raio):\n",
    "    return math.pi * (raio ** 2)\n",
    "\n",
    "areaCirc = calcAreacirculo(float(input(\"Informe o raio do círculo: \")))\n",
    "\n",
    "print(\"\\nA área do circulo é: \", areaCirc)"
   ]
  },
  {
   "cell_type": "code",
   "execution_count": 41,
   "metadata": {},
   "outputs": [
    {
     "name": "stdout",
     "output_type": "stream",
     "text": [
      "Informe o lado do quadrado: 3\n",
      "\n",
      "O dobro da área do quadrado é:  18.0\n"
     ]
    }
   ],
   "source": [
    "# 7 - Faça um Programa que calcule a área de um quadrado, em seguida mostre o dobro desta área para o usuário.\n",
    "# A = L²\n",
    "\n",
    "def calcAreaQuadrado(lado):\n",
    "    return lado ** 2\n",
    "\n",
    "areaQuad = calcAreaQuadrado(float(input(\"Informe o lado do quadrado: \")))\n",
    "\n",
    "print(\"\\nO dobro da área do quadrado é: \", areaQuad * 2)"
   ]
  },
  {
   "cell_type": "code",
   "execution_count": 42,
   "metadata": {},
   "outputs": [
    {
     "name": "stdout",
     "output_type": "stream",
     "text": [
      "Quanto você ganha por hora trabalhada: 2\n",
      "Quantas horas você trabalhou neste mês: 100\n",
      "\n",
      "O salário deste mês será de:  200.0\n"
     ]
    }
   ],
   "source": [
    "# 8 - Faça um Programa que pergunte quanto você ganha por hora \n",
    "# e o número de horas trabalhadas no mês. \n",
    "# Calcule e mostre o total do seu salário no referido mês.\n",
    "# salario = valorHora * numHora\n",
    "\n",
    "valorHora = float(input(\"Quanto você ganha por hora trabalhada: \"))\n",
    "numHora = float(input(\"Quantas horas você trabalhou neste mês: \"))\n",
    "\n",
    "print(\"\\nO salário deste mês será de: \", valorHora * numHora)"
   ]
  },
  {
   "cell_type": "code",
   "execution_count": 43,
   "metadata": {},
   "outputs": [
    {
     "name": "stdout",
     "output_type": "stream",
     "text": [
      "Informe a temperatura em Farenheit: 55\n",
      "\n",
      "Convertendo a temperatura de Farenheit para Celsius temos:  12.777777777777779\n"
     ]
    }
   ],
   "source": [
    "# 9 - Faça um Programa que peça a temperatura em graus Farenheit, transforme e \n",
    "# mostre a temperatura em graus Celsius.\n",
    "# Formula: C = (5 * (F - 32) / 9). \n",
    "\n",
    "farenheit = float(input(\"Informe a temperatura em Farenheit: \"))\n",
    "\n",
    "celsius = (5 * (farenheit -32) / 9)\n",
    "\n",
    "print(\"\\nConvertendo a temperatura de Farenheit para Celsius temos: \", celsius)"
   ]
  },
  {
   "cell_type": "code",
   "execution_count": 44,
   "metadata": {},
   "outputs": [
    {
     "name": "stdout",
     "output_type": "stream",
     "text": [
      "Informe a temperatura em Celcius: 12\n",
      "\n",
      "Convertendo a temperatura de Celcius para Farenheit temos:  53.6\n"
     ]
    }
   ],
   "source": [
    "# 10 - Faça um Programa que peça a temperatura em graus Celsius, transforme e \n",
    "# mostre em graus Farenheit. \n",
    "# F = C * 1.8 + 32\n",
    "\n",
    "celsius = float(input(\"Informe a temperatura em Celcius: \"))\n",
    "\n",
    "farenheit = celsius * 1.8 + 32\n",
    "\n",
    "print(\"\\nConvertendo a temperatura de Celcius para Farenheit temos: \", farenheit)"
   ]
  },
  {
   "cell_type": "code",
   "execution_count": 46,
   "metadata": {},
   "outputs": [
    {
     "name": "stdout",
     "output_type": "stream",
     "text": [
      "Informe um número inteiro: 10\n",
      "Informe outro número inteiro: 5\n",
      "Informe um número real: 3.8\n",
      "\n",
      "Resultado do produto do dobro do primeiro com metade do segundo:  50.0\n",
      "Resultado da soma do triplo do primeiro com o terceiro:  33.8\n",
      "Resultado do terceiro elevado ao cubo:  54.87199999999999\n"
     ]
    }
   ],
   "source": [
    "# 11 - Faça um Programa que peça 2 números inteiros e um número real. Calcule e mostre:\n",
    "#    o produto do dobro do primeiro com metade do segundo .\n",
    "#    a soma do triplo do primeiro com o terceiro.\n",
    "#    o terceiro elevado ao cubo. \n",
    "\n",
    "numInt1 = int(input(\"Informe um número inteiro: \"))\n",
    "numInt2 = int(input(\"Informe outro número inteiro: \"))\n",
    "numReal = float(input(\"Informe um número real: \"))\n",
    "\n",
    "# Resultados\n",
    "print(\"\\nResultado do produto do dobro do primeiro com metade do segundo: \", \n",
    "      (numInt1 * 2) * (numInt2 / 2))\n",
    "print(\"Resultado da soma do triplo do primeiro com o terceiro: \", \n",
    "      (numInt1 * 3) + numReal)\n",
    "print(\"Resultado do terceiro elevado ao cubo: \", \n",
    "      numReal ** 3)"
   ]
  },
  {
   "cell_type": "code",
   "execution_count": 47,
   "metadata": {},
   "outputs": [
    {
     "name": "stdout",
     "output_type": "stream",
     "text": [
      "Informe a altura (em metros): 1.75\n",
      "O peso ideal é de:  69.22500000000001\n"
     ]
    }
   ],
   "source": [
    "# 12 - Tendo como dados de entrada a altura de uma pessoa, construa um algoritmo que \n",
    "# calcule seu peso ideal, usando a seguinte fórmula: (72.7*altura) - 58\n",
    "\n",
    "altura = float(input(\"Informe a altura (em metros): \"))\n",
    "print(\"\\nO peso ideal é de: \", (72.7 * altura) - 58)"
   ]
  },
  {
   "cell_type": "code",
   "execution_count": 74,
   "metadata": {},
   "outputs": [
    {
     "data": {
      "application/vnd.jupyter.widget-view+json": {
       "model_id": "290529658f6e4498bd149b15e6340c40",
       "version_major": 2,
       "version_minor": 0
      },
      "text/plain": [
       "RadioButtons(description='Sexo:', options=('Homem', 'Mulher'), value='Homem')"
      ]
     },
     "metadata": {},
     "output_type": "display_data"
    }
   ],
   "source": [
    "# 13 - Tendo como dado de entrada a altura (h) de uma pessoa, construa um algoritmo que \n",
    "# calcule seu peso ideal, utilizando as seguintes fórmulas:\n",
    "#    Para homens: (72.7*h) - 58\n",
    "#    Para mulheres: (62.1*h) - 44.7 \n",
    "\n",
    "import ipywidgets as widgets\n",
    "\n",
    "sexo = widgets.RadioButtons(\n",
    "    options=['Homem', 'Mulher'],\n",
    "    description='Sexo:',\n",
    "    disabled=False\n",
    ")\n",
    "sexo"
   ]
  },
  {
   "cell_type": "code",
   "execution_count": 82,
   "metadata": {},
   "outputs": [
    {
     "name": "stdout",
     "output_type": "stream",
     "text": [
      "Informe a altura (em metros): 1.75\n",
      "Peso ideal para homem:  69.22500000000001\n"
     ]
    }
   ],
   "source": [
    "altura = float(input(\"Informe a altura (em metros): \"))\n",
    "\n",
    "if (sexo.value == 'Homem'):\n",
    "    print('\\nPeso ideal para homem: ', (72.7 * altura) - 58)\n",
    "else: \n",
    "    print('\\nPeso ideal para mulher: ', (62.1 * altura) - 44.7)"
   ]
  },
  {
   "cell_type": "code",
   "execution_count": null,
   "metadata": {},
   "outputs": [],
   "source": [
    "# 14 - João Papo-de-Pescador, homem de bem, comprou um microcomputador para controlar o rendimento \n",
    "# diário de seu trabalho. Toda vez que ele traz um peso de peixes maior que o estabelecido pelo \n",
    "# regulamento de pesca do estado de São Paulo (50 quilos) deve pagar uma multa de R$ 4,00 por quilo \n",
    "# excedente. João precisa que você faça um programa que leia a variável peso (peso de peixes) e \n",
    "# calcule o excesso. Gravar na variável excesso a quantidade de quilos além do limite e na variável\n",
    "# multa o valor da multa que João deverá pagar. Imprima os dados do programa com as mensagens \n",
    "# adequadas. "
   ]
  },
  {
   "cell_type": "code",
   "execution_count": null,
   "metadata": {},
   "outputs": [],
   "source": []
  }
 ],
 "metadata": {
  "kernelspec": {
   "display_name": "Python 3",
   "language": "python",
   "name": "python3"
  },
  "language_info": {
   "codemirror_mode": {
    "name": "ipython",
    "version": 3
   },
   "file_extension": ".py",
   "mimetype": "text/x-python",
   "name": "python",
   "nbconvert_exporter": "python",
   "pygments_lexer": "ipython3",
   "version": "3.6.5"
  }
 },
 "nbformat": 4,
 "nbformat_minor": 2
}
