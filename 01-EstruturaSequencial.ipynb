{
 "cells": [
  {
   "cell_type": "markdown",
   "metadata": {},
   "source": [
    "# Estrutura Sequencial em Python\n",
    "#### Aline Assunção\n",
    "#### Lista dos exercícios: https://wiki.python.org.br/EstruturaSequencial"
   ]
  },
  {
   "cell_type": "code",
   "execution_count": 1,
   "metadata": {},
   "outputs": [
    {
     "name": "stdout",
     "output_type": "stream",
     "text": [
      "Alo Mundo\n"
     ]
    }
   ],
   "source": [
    "# 1. Faça um Programa que mostre a mensagem \"Alo mundo\" na tela. \n",
    "\n",
    "print(\"Alo Mundo\")"
   ]
  },
  {
   "cell_type": "code",
   "execution_count": 2,
   "metadata": {},
   "outputs": [
    {
     "name": "stdout",
     "output_type": "stream",
     "text": [
      "Informe um número: 15\n",
      "O número informado foi:  15\n"
     ]
    }
   ],
   "source": [
    "# 2. Faça um Programa que peça um número e então mostre a mensagem \n",
    "# O número informado foi [número]. \n",
    "\n",
    "def retornaNumero(num):\n",
    "    print(\"O número informado foi: \", num)\n",
    "    \n",
    "retornaNumero(input(\"Informe um número: \"))"
   ]
  },
  {
   "cell_type": "code",
   "execution_count": 3,
   "metadata": {},
   "outputs": [
    {
     "name": "stdout",
     "output_type": "stream",
     "text": [
      "Informe um primeiro número: 15\n",
      "Informe um segundo número: 17\n",
      "\n",
      "O resultado da soma dos números é:  32\n"
     ]
    }
   ],
   "source": [
    "# 3 - Faça um Programa que peça dois números e imprima a soma.\n",
    "\n",
    "# ao receber os numeros desta forma é necessário converter para int, pois no\n",
    "# input recebemos uma string e com o sinal de + fazemos uma concatenação\n",
    "num1 = int(input(\"Informe um primeiro número: \"))\n",
    "num2 = int(input(\"Informe um segundo número: \"))\n",
    "\n",
    "print(\"\\nO resultado da soma dos números é: \", num1 + num2)"
   ]
  },
  {
   "cell_type": "code",
   "execution_count": 4,
   "metadata": {},
   "outputs": [
    {
     "name": "stdout",
     "output_type": "stream",
     "text": [
      "Informe a nota do bimestre: 8\n",
      "Informe a nota do bimestre: 8\n",
      "Informe a nota do bimestre: 3\n",
      "Informe a nota do bimestre: 2\n",
      "\n",
      " A média das notas é:  5.25\n"
     ]
    }
   ],
   "source": [
    "# 4 - Faça um Programa que peça as 4 notas bimestrais e mostre a média. \n",
    "\n",
    "notas = []\n",
    "\n",
    "for x in range(4):\n",
    "    notas.append(float(input(\"Informe a nota do bimestre: \")))\n",
    "\n",
    "print(\"\\n A média das notas é: \",(sum(notas)/4))"
   ]
  },
  {
   "cell_type": "code",
   "execution_count": 5,
   "metadata": {},
   "outputs": [
    {
     "name": "stdout",
     "output_type": "stream",
     "text": [
      "Informe o valor a ser convertido: 874\n",
      "874.0 metro(s) equivale(m) à 87400.0 centímetros.\n"
     ]
    }
   ],
   "source": [
    "# 5 - Faça um Programa que converta metros para centímetros. \n",
    "\n",
    "def converteMc(metros):\n",
    "    print(metros, \"metro(s) equivale(m) à\", metros * 100, \"centímetros.\")\n",
    "    \n",
    "converteMc(float(input(\"Informe o valor a ser convertido: \")))"
   ]
  },
  {
   "cell_type": "code",
   "execution_count": 6,
   "metadata": {},
   "outputs": [
    {
     "name": "stdout",
     "output_type": "stream",
     "text": [
      "Informe o raio do círculo: 5\n",
      "\n",
      "A área do circulo é:  78.53981633974483\n"
     ]
    }
   ],
   "source": [
    "# 6 - Faça um Programa que peça o raio de um círculo, calcule e mostre sua área.\n",
    "# A = π . r²\n",
    "\n",
    "import math\n",
    "\n",
    "def calcAreacirculo(raio):\n",
    "    return math.pi * (raio ** 2)\n",
    "\n",
    "areaCirc = calcAreacirculo(float(input(\"Informe o raio do círculo: \")))\n",
    "\n",
    "print(\"\\nA área do circulo é: \", areaCirc)"
   ]
  },
  {
   "cell_type": "code",
   "execution_count": 7,
   "metadata": {},
   "outputs": [
    {
     "name": "stdout",
     "output_type": "stream",
     "text": [
      "Informe o lado do quadrado: 4\n",
      "\n",
      "O dobro da área do quadrado é:  32.0\n"
     ]
    }
   ],
   "source": [
    "# 7 - Faça um Programa que calcule a área de um quadrado, em seguida mostre o dobro desta área para o usuário.\n",
    "# A = L²\n",
    "\n",
    "def calcAreaQuadrado(lado):\n",
    "    return lado ** 2\n",
    "\n",
    "areaQuad = calcAreaQuadrado(float(input(\"Informe o lado do quadrado: \")))\n",
    "\n",
    "print(\"\\nO dobro da área do quadrado é: \", areaQuad * 2)"
   ]
  },
  {
   "cell_type": "code",
   "execution_count": 8,
   "metadata": {},
   "outputs": [
    {
     "name": "stdout",
     "output_type": "stream",
     "text": [
      "Quanto você ganha por hora trabalhada: 20\n",
      "Quantas horas você trabalhou neste mês: 150\n",
      "\n",
      "O salário deste mês será de:  3000.0\n"
     ]
    }
   ],
   "source": [
    "# 8 - Faça um Programa que pergunte quanto você ganha por hora \n",
    "# e o número de horas trabalhadas no mês. \n",
    "# Calcule e mostre o total do seu salário no referido mês.\n",
    "# salario = valorHora * numHora\n",
    "\n",
    "valorHora = float(input(\"Quanto você ganha por hora trabalhada: \"))\n",
    "numHora = float(input(\"Quantas horas você trabalhou neste mês: \"))\n",
    "\n",
    "print(\"\\nO salário deste mês será de: \", valorHora * numHora)"
   ]
  },
  {
   "cell_type": "code",
   "execution_count": 9,
   "metadata": {},
   "outputs": [
    {
     "name": "stdout",
     "output_type": "stream",
     "text": [
      "Informe a temperatura em Farenheit: 5\n",
      "\n",
      "Convertendo a temperatura de Farenheit para Celsius temos:  -15.0\n"
     ]
    }
   ],
   "source": [
    "# 9 - Faça um Programa que peça a temperatura em graus Farenheit, transforme e \n",
    "# mostre a temperatura em graus Celsius.\n",
    "# Formula: C = (5 * (F - 32) / 9). \n",
    "\n",
    "farenheit = float(input(\"Informe a temperatura em Farenheit: \"))\n",
    "\n",
    "celsius = (5 * (farenheit -32) / 9)\n",
    "\n",
    "print(\"\\nConvertendo a temperatura de Farenheit para Celsius temos: \", celsius)"
   ]
  },
  {
   "cell_type": "code",
   "execution_count": 10,
   "metadata": {},
   "outputs": [
    {
     "name": "stdout",
     "output_type": "stream",
     "text": [
      "Informe a temperatura em Celcius: 5\n",
      "\n",
      "Convertendo a temperatura de Celcius para Farenheit temos:  41.0\n"
     ]
    }
   ],
   "source": [
    "# 10 - Faça um Programa que peça a temperatura em graus Celsius, transforme e \n",
    "# mostre em graus Farenheit. \n",
    "# F = C * 1.8 + 32\n",
    "\n",
    "celsius = float(input(\"Informe a temperatura em Celcius: \"))\n",
    "\n",
    "farenheit = celsius * 1.8 + 32\n",
    "\n",
    "print(\"\\nConvertendo a temperatura de Celcius para Farenheit temos: \", farenheit)"
   ]
  },
  {
   "cell_type": "code",
   "execution_count": 11,
   "metadata": {},
   "outputs": [
    {
     "name": "stdout",
     "output_type": "stream",
     "text": [
      "Informe um número inteiro: 4\n",
      "Informe outro número inteiro: 5\n",
      "Informe um número real: 8\n",
      "\n",
      "Resultado do produto do dobro do primeiro com metade do segundo:  20.0\n",
      "Resultado da soma do triplo do primeiro com o terceiro:  20.0\n",
      "Resultado do terceiro elevado ao cubo:  512.0\n"
     ]
    }
   ],
   "source": [
    "# 11 - Faça um Programa que peça 2 números inteiros e um número real. Calcule e mostre:\n",
    "#    o produto do dobro do primeiro com metade do segundo .\n",
    "#    a soma do triplo do primeiro com o terceiro.\n",
    "#    o terceiro elevado ao cubo. \n",
    "\n",
    "numInt1 = int(input(\"Informe um número inteiro: \"))\n",
    "numInt2 = int(input(\"Informe outro número inteiro: \"))\n",
    "numReal = float(input(\"Informe um número real: \"))\n",
    "\n",
    "# Resultados\n",
    "print(\"\\nResultado do produto do dobro do primeiro com metade do segundo: \", \n",
    "      (numInt1 * 2) * (numInt2 / 2))\n",
    "print(\"Resultado da soma do triplo do primeiro com o terceiro: \", \n",
    "      (numInt1 * 3) + numReal)\n",
    "print(\"Resultado do terceiro elevado ao cubo: \", \n",
    "      numReal ** 3)"
   ]
  },
  {
   "cell_type": "code",
   "execution_count": 12,
   "metadata": {},
   "outputs": [
    {
     "name": "stdout",
     "output_type": "stream",
     "text": [
      "Informe a altura (em metros): 8\n",
      "\n",
      "O peso ideal é de:  523.6\n"
     ]
    }
   ],
   "source": [
    "# 12 - Tendo como dados de entrada a altura de uma pessoa, construa um algoritmo que \n",
    "# calcule seu peso ideal, usando a seguinte fórmula: (72.7*altura) - 58\n",
    "\n",
    "altura = float(input(\"Informe a altura (em metros): \"))\n",
    "print(\"\\nO peso ideal é de: \", (72.7 * altura) - 58)"
   ]
  },
  {
   "cell_type": "code",
   "execution_count": 13,
   "metadata": {},
   "outputs": [
    {
     "data": {
      "application/vnd.jupyter.widget-view+json": {
       "model_id": "56f1713dc2d64e34bed8c8f8bb77f3c8",
       "version_major": 2,
       "version_minor": 0
      },
      "text/plain": [
       "RadioButtons(description='Sexo:', options=('Homem', 'Mulher'), value='Homem')"
      ]
     },
     "metadata": {},
     "output_type": "display_data"
    }
   ],
   "source": [
    "# 13 - Tendo como dado de entrada a altura (h) de uma pessoa, construa um algoritmo que \n",
    "# calcule seu peso ideal, utilizando as seguintes fórmulas:\n",
    "#    Para homens: (72.7*h) - 58\n",
    "#    Para mulheres: (62.1*h) - 44.7 \n",
    "\n",
    "import ipywidgets as widgets\n",
    "\n",
    "sexo = widgets.RadioButtons(\n",
    "    options=['Homem', 'Mulher'],\n",
    "    description='Sexo:',\n",
    "    disabled=False\n",
    ")\n",
    "sexo"
   ]
  },
  {
   "cell_type": "code",
   "execution_count": 14,
   "metadata": {},
   "outputs": [
    {
     "name": "stdout",
     "output_type": "stream",
     "text": [
      "Informe a altura (em metros): 1.75\n",
      "\n",
      "Peso ideal para homem:  69.22500000000001\n"
     ]
    }
   ],
   "source": [
    "altura = float(input(\"Informe a altura (em metros): \"))\n",
    "\n",
    "if (sexo.value == 'Homem'):\n",
    "    print('\\nPeso ideal para homem: ', (72.7 * altura) - 58)\n",
    "else: \n",
    "    print('\\nPeso ideal para mulher: ', (62.1 * altura) - 44.7)"
   ]
  },
  {
   "cell_type": "code",
   "execution_count": 15,
   "metadata": {},
   "outputs": [
    {
     "name": "stdout",
     "output_type": "stream",
     "text": [
      "Informe quantos quilos de peixe temos pra hoje: 55\n",
      "\n",
      "Hoje tivemos um excesso de 5.0 quilo, o que implica em uma multa de R$ 20.0\n"
     ]
    }
   ],
   "source": [
    "# 14 - João Papo-de-Pescador, homem de bem, comprou um microcomputador para controlar o rendimento \n",
    "# diário de seu trabalho. Toda vez que ele traz um peso de peixes maior que o estabelecido pelo \n",
    "# regulamento de pesca do estado de São Paulo (50 quilos) deve pagar uma multa de R$ 4,00 por quilo \n",
    "# excedente. João precisa que você faça um programa que leia a variável peso (peso de peixes) e \n",
    "# calcule o excesso. Gravar na variável excesso a quantidade de quilos além do limite e na variável\n",
    "# multa o valor da multa que João deverá pagar. Imprima os dados do programa com as mensagens \n",
    "# adequadas. \n",
    "\n",
    "peso = float(input(\"Informe quantos quilos de peixe temos pra hoje: \"))\n",
    "\n",
    "if (peso > 50.0):\n",
    "    excesso = peso - 50.0\n",
    "    multa = excesso * 4.0\n",
    "    print(\"\\nHoje tivemos um excesso de\", excesso, \"quilo, o que implica em uma multa de R$\", multa)\n",
    "else:\n",
    "    print(\"\\nHoje não tivemos excesso, por este motivo não temos multa.\")"
   ]
  },
  {
   "cell_type": "code",
   "execution_count": 16,
   "metadata": {},
   "outputs": [
    {
     "name": "stdout",
     "output_type": "stream",
     "text": [
      "Quantas horas você trabalhou neste mês: 15\n",
      "Quantas horas você trabalhou neste mês: 125\n",
      "\n",
      "\n",
      "Relatório do Salário deste mês:\n",
      "+ Salário Bruto : R$ 1875.0 \n",
      "- IR (11%) : R$ 206.25 \n",
      "- INSS (8%) : R$ 150.0 \n",
      "- Sindicato ( 5%) : R$ 93.75 \n",
      "= Salário Liquido : R$ 1425.0\n"
     ]
    }
   ],
   "source": [
    "# 15 - Faça um Programa que pergunte quanto você ganha por hora e o número de horas trabalhadas no mês.\n",
    "# Calcule e mostre o total do seu salário no referido mês, sabendo-se que são descontados 11% para o \n",
    "# Imposto de Renda, 8% para o INSS e 5% para o sindicato, faça um programa que nos dê:\n",
    "#    salário bruto.\n",
    "#    quanto pagou ao INSS.\n",
    "#    quanto pagou ao sindicato.\n",
    "#    o salário líquido.\n",
    "#    calcule os descontos e o salário líquido, conforme a tabela abaixo:\n",
    "\n",
    "#    + Salário Bruto : R$\n",
    "#    - IR (11%) : R$\n",
    "#    - INSS (8%) : R$\n",
    "#    - Sindicato ( 5%) : R$\n",
    "#    = Salário Liquido : R$\n",
    "\n",
    "#    Obs.: Salário Bruto - Descontos = Salário Líquido. \n",
    "salario = float(input(\"Quantas horas você trabalhou neste mês: \"))\n",
    "horas = float(input(\"Quantas horas você trabalhou neste mês: \"))\n",
    "\n",
    "salarioBruto = salario * horas\n",
    "irenda = salarioBruto * 0.11\n",
    "inss = salarioBruto * 0.08\n",
    "sindicato = salarioBruto * 0.05\n",
    "salarioLiquido = salarioBruto - irenda - inss - sindicato\n",
    "\n",
    "print(\"\\n\\nRelatório do Salário deste mês:\")\n",
    "print(\"+ Salário Bruto : R$\", salarioBruto, \"\\n- IR (11%) : R$\", irenda, \"\\n- INSS (8%) : R$\", inss,\n",
    "     \"\\n- Sindicato ( 5%) : R$\", sindicato, \"\\n= Salário Liquido : R$\", salarioLiquido)"
   ]
  },
  {
   "cell_type": "code",
   "execution_count": 17,
   "metadata": {},
   "outputs": [
    {
     "name": "stdout",
     "output_type": "stream",
     "text": [
      "Informe a área a ser pintada (m²): 120\n",
      "\n",
      "São necessárias 3 latas de 18 litros, com preço total de R$  240.0\n"
     ]
    }
   ],
   "source": [
    "# 16 - Faça um programa para uma loja de tintas. O programa deverá pedir o tamanho em metros quadrados\n",
    "# da área a ser pintada. Considere que a cobertura da tinta é de 1 litro para cada 3 metros quadrados \n",
    "# e que a tinta é vendida em latas de 18 litros, que custam R$ 80,00. Informe ao usuário a quantidades\n",
    "# de latas de tinta a serem compradas e o preço total. \n",
    "\n",
    "\n",
    "### Arredonda sempre pra mais pra que tenha sempre a quantidade de litros suficiente (considerando latas cheias)\n",
    "area = float(input(\"Informe a área a ser pintada (m²): \"))\n",
    "litrosTentaCobertura = area / 3\n",
    "\n",
    "if (litrosTentaCobertura <= 18):\n",
    "    print(\"\\nÉ necessária apenas uma lata de 18 litros, com preço total de R$ 80,00.\")\n",
    "elif(area % 3 == 0):\n",
    "    if(litrosTentaCobertura % 18 == 0):\n",
    "        lata = litrosTentaCobertura / 18\n",
    "    else:\n",
    "        lata = ((litrosTentaCobertura - litrosTentaCobertura % 18) /18) + 1\n",
    "else:\n",
    "    restoLitros = area % 3\n",
    "    litrosTentaCobertura = ((area - restoLitros) + 3) / 3\n",
    "    if(litrosTentaCobertura % 18 == 0):\n",
    "        lata = litrosTentaCobertura / 18\n",
    "    else:\n",
    "        lata = ((litrosTentaCobertura - litrosTentaCobertura % 18) /18) + 1\n",
    "    \n",
    "\n",
    "valorTotal = lata * 80.0\n",
    "print(\"\\nSão necessárias\", int(lata), \"latas de 18 litros, com preço total de R$ \", valorTotal)   \n",
    "    "
   ]
  },
  {
   "cell_type": "code",
   "execution_count": null,
   "metadata": {},
   "outputs": [],
   "source": [
    "# 17 - Faça um Programa para uma loja de tintas. \n",
    "# O programa deverá pedir o tamanho em metros quadrados da área a ser pintada. \n",
    "# Considere que a cobertura da tinta é de 1 litro para cada 6 metros quadrados e que a tinta \n",
    "# é vendida em latas de 18 litros, que custam R$ 80,00 ou em galões de 3,6 litros, \n",
    "# que custam R$ 25,00.\n",
    "#    Informe ao usuário as quantidades de tinta a serem compradas e os respectivos preços em 3 situações:\n",
    "###    1 - comprar apenas latas de 18 litros;\n",
    "###    2 - comprar apenas galões de 3,6 litros;\n",
    "###    3 - misturar latas e galões, de forma que o preço seja o menor. \n",
    "#          Acrescente 10% de folga e sempre arredonde os valores para cima,\n",
    "#          isto é, considere latas cheias. \n",
    "\n",
    "### Arredonda sempre pra mais pra que tenha sempre a quantidade de litros suficiente\n",
    "area = float(input(\"Informe a área a ser pintada (m²): \"))\n",
    "litros = area / 6\n",
    "\n",
    "### Falta terminar esse\n"
   ]
  },
  {
   "cell_type": "code",
   "execution_count": 18,
   "metadata": {},
   "outputs": [
    {
     "name": "stdout",
     "output_type": "stream",
     "text": [
      "Informe o tamanho do arquivo (MB): 800\n",
      "Informe a velocidade (Mbps): 6.0\n",
      "\n",
      "O tempo aproximado para download é de 17.78 minutos.\n"
     ]
    }
   ],
   "source": [
    "# 18 - Faça um programa que peça o tamanho de um arquivo para download (em MB) e a velocidade de um \n",
    "# link de Internet (em Mbps), calcule e informe o tempo aproximado de download do arquivo usando este \n",
    "# link (em minutos). \n",
    "\n",
    "arquivo = float(input(\"Informe o tamanho do arquivo (MB): \"))\n",
    "velocidade = float(input(\"Informe a velocidade (Mbps): \"))\n",
    "\n",
    "# Primeiro vamos converter a velocidade para unidade semelhante \n",
    "velocidade = velocidade / 8\n",
    "\n",
    "tempo = (arquivo / velocidade) / 60\n",
    "\n",
    "print(\"\\nO tempo aproximado para download é de\", round(tempo, 2), \"minutos.\")\n",
    "\n",
    "# Fonte: http://ptcomputador.com/Networking/other-computer-networking/77339.html"
   ]
  },
  {
   "cell_type": "code",
   "execution_count": null,
   "metadata": {},
   "outputs": [],
   "source": []
  }
 ],
 "metadata": {
  "kernelspec": {
   "display_name": "Python 3",
   "language": "python",
   "name": "python3"
  },
  "language_info": {
   "codemirror_mode": {
    "name": "ipython",
    "version": 3
   },
   "file_extension": ".py",
   "mimetype": "text/x-python",
   "name": "python",
   "nbconvert_exporter": "python",
   "pygments_lexer": "ipython3",
   "version": "3.6.5"
  }
 },
 "nbformat": 4,
 "nbformat_minor": 2
}
