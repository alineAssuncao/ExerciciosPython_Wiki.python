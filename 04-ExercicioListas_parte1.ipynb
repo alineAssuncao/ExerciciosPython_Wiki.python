{
 "cells": [
  {
   "cell_type": "code",
   "execution_count": 1,
   "metadata": {},
   "outputs": [
    {
     "name": "stdout",
     "output_type": "stream",
     "text": [
      "[1, 5, 9, 13, 17]\n"
     ]
    }
   ],
   "source": [
    "# 01 - Faça um Programa que leia um vetor de 5 números inteiros e mostre-os.\n",
    "\n",
    "print([i for i in range(1,20,4)])"
   ]
  },
  {
   "cell_type": "code",
   "execution_count": 2,
   "metadata": {},
   "outputs": [
    {
     "name": "stdout",
     "output_type": "stream",
     "text": [
      "Valores na ordem correta:  [190.0, 170.0, 190.0, 150.0, 195.0, 180.0, 150.0, 190.0, 175.0, 185.0]\n",
      "\n",
      "Valores na ordem inversa:  [185.0, 175.0, 190.0, 150.0, 180.0, 195.0, 150.0, 190.0, 170.0, 190.0]\n"
     ]
    }
   ],
   "source": [
    "# 02 - Faça um Programa que leia um vetor de 10 números reais e mostre-os na ordem inversa.\n",
    "\n",
    "#### Solução 1 com random\n",
    "import random\n",
    "var = [random.randrange(150,200,5) for x in range(0, 10)]\n",
    "var = list(map(float, var))\n",
    "print(\"Valores na ordem correta: \", var)\n",
    "var.reverse()\n",
    "print(\"\\nValores na ordem inversa: \", var)"
   ]
  },
  {
   "cell_type": "code",
   "execution_count": 3,
   "metadata": {},
   "outputs": [
    {
     "name": "stdout",
     "output_type": "stream",
     "text": [
      "Valores na ordem correta:  [21.0, 184.0, 35.0, 192.0, 94.0, 168.0, 10.0, 178.0, 55.0, 88.0]\n",
      "\n",
      "Valores na ordem inversa:  [88.0, 55.0, 178.0, 10.0, 168.0, 94.0, 192.0, 35.0, 184.0, 21.0]\n"
     ]
    }
   ],
   "source": [
    "#### Solução 2 com numpy\n",
    "import numpy as np\n",
    "var2 = np.random.randint(0,200,10)\n",
    "# o restante é o mesmo, visto que temos que trabalhar com listas\n",
    "var2 = [float(item) for item in var2]\n",
    "print(\"Valores na ordem correta: \", var2)\n",
    "var2.reverse()\n",
    "print(\"\\nValores na ordem inversa: \", var2)"
   ]
  },
  {
   "cell_type": "code",
   "execution_count": 5,
   "metadata": {},
   "outputs": [
    {
     "name": "stdout",
     "output_type": "stream",
     "text": [
      "Informe a nota para calculo da média: 7\n",
      "Informe a nota para calculo da média: 7\n",
      "Informe a nota para calculo da média: 7\n",
      "Informe a nota para calculo da média: 8\n",
      "\n",
      "A média das notas é :  7.25\n"
     ]
    }
   ],
   "source": [
    "# 03 - Faça um Programa que leia 4 notas, mostre as notas e a média na tela.\n",
    "\n",
    "notas = []\n",
    "\n",
    "for i in range(1,5):notas.append(int(input(\"Informe a nota para calculo da média: \")))\n",
    "print(\"\\nA média das notas é : \", sum(notas)/4)"
   ]
  },
  {
   "cell_type": "code",
   "execution_count": null,
   "metadata": {},
   "outputs": [],
   "source": [
    "# 04 - Faça um Programa que leia um vetor de 10 caracteres, e diga quantas consoantes foram lidas. Imprima as consoantes.\n"
   ]
  },
  {
   "cell_type": "code",
   "execution_count": null,
   "metadata": {},
   "outputs": [],
   "source": [
    "# 05 - Faça um Programa que leia 20 números inteiros e armazene-os num vetor. Armazene os números pares no vetor PAR e os números IMPARES no vetor impar. Imprima os três vetores.\n"
   ]
  },
  {
   "cell_type": "code",
   "execution_count": null,
   "metadata": {},
   "outputs": [],
   "source": [
    "# 06 - Faça um Programa que peça as quatro notas de 10 alunos, calcule e armazene num vetor a média de cada aluno, imprima o número de alunos com média maior ou igual a 7.0.\n"
   ]
  },
  {
   "cell_type": "code",
   "execution_count": null,
   "metadata": {},
   "outputs": [],
   "source": [
    "# 07 - Faça um Programa que leia um vetor de 5 números inteiros, mostre a soma, a multiplicação e os números.\n"
   ]
  },
  {
   "cell_type": "code",
   "execution_count": null,
   "metadata": {},
   "outputs": [],
   "source": [
    "# 08 - Faça um Programa que peça a idade e a altura de 5 pessoas, armazene cada informação no seu respectivo vetor. Imprima a idade e a altura na ordem inversa a ordem lida.\n"
   ]
  },
  {
   "cell_type": "code",
   "execution_count": null,
   "metadata": {},
   "outputs": [],
   "source": [
    "# 09 - Faça um Programa que leia um vetor A com 10 números inteiros, calcule e mostre a soma dos quadrados dos elementos do vetor.\n"
   ]
  },
  {
   "cell_type": "code",
   "execution_count": null,
   "metadata": {},
   "outputs": [],
   "source": [
    "# 10 - Faça um Programa que leia dois vetores com 10 elementos cada. Gere um terceiro vetor de 20 elementos, cujos valores deverão ser compostos pelos elementos intercalados dos dois outros vetores.\n"
   ]
  },
  {
   "cell_type": "code",
   "execution_count": null,
   "metadata": {},
   "outputs": [],
   "source": [
    "# 11 - Altere o programa anterior, intercalando 3 vetores de 10 elementos cada.\n"
   ]
  },
  {
   "cell_type": "code",
   "execution_count": null,
   "metadata": {},
   "outputs": [],
   "source": [
    "# 12 - Foram anotadas as idades e alturas de 30 alunos. Faça um Programa que determine quantos alunos com mais de 13 anos possuem altura inferior à média de altura desses alunos\n"
   ]
  }
 ],
 "metadata": {
  "kernelspec": {
   "display_name": "Python 3",
   "language": "python",
   "name": "python3"
  },
  "language_info": {
   "codemirror_mode": {
    "name": "ipython",
    "version": 3
   },
   "file_extension": ".py",
   "mimetype": "text/x-python",
   "name": "python",
   "nbconvert_exporter": "python",
   "pygments_lexer": "ipython3",
   "version": "3.6.5"
  }
 },
 "nbformat": 4,
 "nbformat_minor": 2
}
